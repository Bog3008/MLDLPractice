{
  "cells": [
    {
      "cell_type": "markdown",
      "metadata": {},
      "source": [
        "Вот код который сначала не заработал - optimizer.zero_grad() сначала стоял в во втором if (я сделал метку что бы можнобыло найти через crl+f) <1>. Потом я перенес на позицию <2> и все заработало"
      ]
    },
    {
      "cell_type": "code",
      "execution_count": 36,
      "metadata": {
        "id": "3Tmo1lsHjBE6"
      },
      "outputs": [],
      "source": [
        "# in: model, optimizer, loss\n",
        "def teach_it(model, optimizer, criterion, silent_mod = False):\n",
        "    max_epochs = 10\n",
        "    accuracy = {\"train\": [], \"valid\": []}\n",
        "    for epoch in range(max_epochs):\n",
        "        for k, dataloader in loaders.items():\n",
        "            epoch_correct = 0\n",
        "            epoch_all = 0\n",
        "            for x_batch, y_batch in dataloader:\n",
        "                x_batch = x_batch.to(device)\n",
        "                y_batch = y_batch.to(device)\n",
        "\n",
        "                if k == \"train\":\n",
        "                     \n",
        "                     # <2>\n",
        "                    optimizer.zero_grad()\n",
        "                    model.train()\n",
        "                    #print(device)\n",
        "                    outp = model(x_batch)\n",
        "                else:\n",
        "                     \n",
        "                    model.eval()\n",
        "                    with torch.no_grad():\n",
        "                        outp = model(x_batch)\n",
        "\n",
        "                preds = outp.argmax(-1)\n",
        "                correct =  sum(preds == y_batch)  \n",
        "                all =  y_batch.shape[0]  \n",
        "                epoch_correct += correct \n",
        "                epoch_all += all\n",
        "                if k == \"train\":\n",
        "                    labels = torch.eye(10).to(device)[y_batch]\n",
        "                    loss = criterion(outp, labels)\n",
        "\n",
        "                    #optimizer.zero_grad() <1>\n",
        "                    ##\n",
        "                    #'''я убрал зероград тут, переместил в первый if и все заработало\n",
        "                    # до этого в моих моделях все работало нормально '''\n",
        "                    ##\n",
        "                    loss.backward()\n",
        "                    optimizer.step()\n",
        "\n",
        "            if not silent_mod:\n",
        "                if k == \"train\":\n",
        "                    print(f\"Epoch: {epoch+1}\")\n",
        "                print(f\"Loader: {k}. Accuracy: {epoch_correct/epoch_all}\")\n",
        "            accuracy[k].append(epoch_correct/epoch_all)\n",
        "\n",
        "    return accuracy\n",
        "\n"
      ]
    },
    {
      "cell_type": "markdown",
      "metadata": {},
      "source": [
        "Однако, когда я обучал mnist и писал полностью свой код я делал в таком порядке:  \n",
        "\n",
        "    outputs = model(imgs)  \n",
        "    loss = loss_fn(outputs, labels)  \n",
        "    optimizer.zero_grad()\n",
        "    loss.backward()\n",
        "    optimizer.step()  \n",
        "    \n",
        "    и все отлично работало"
      ]
    },
    {
      "cell_type": "code",
      "execution_count": null,
      "metadata": {},
      "outputs": [],
      "source": [
        "def training_loop(n_epochs, optimizer, model, loss_fn, train_loader):\n",
        "    log_records = []\n",
        "    for epoch in range(1, n_epochs + 1):\n",
        "        loss_train = 0.0\n",
        "        for imgs, labels in train_loader: \n",
        "            imgs = imgs.to(device)\n",
        "            labels = labels.to(device)\n",
        "            labels = torch.eye(num_classes).to(device)[labels]#.to(device)\n",
        "            \n",
        "            outputs = model(imgs)\n",
        "            loss = loss_fn(outputs, labels)\n",
        "\n",
        "            optimizer.zero_grad()\n",
        "            loss.backward()\n",
        "            optimizer.step()\n",
        "\n",
        "            loss_train += loss.item()\n",
        "\n",
        "        if epoch == 1 or epoch % 10 == 0:\n",
        "            log_rec1 = '\\n{}\\nEpoch {}\\nTraining loss {}\\n'.format(\n",
        "                datetime.datetime.now().strftime(\"%Y-%m-%d %H:%M:%S\"), epoch,\n",
        "                loss_train / len(train_loader))\n",
        "\n",
        "            print('{} Epoch {}, Training loss {}'.format(\n",
        "                datetime.datetime.now().strftime(\"%Y-%m-%d %H:%M:%S\"), epoch,\n",
        "                loss_train / len(train_loader)))\n",
        "            correct, total_size = evaluate_model(model, test_loader)\n",
        "\n",
        "            log_rec2 = \"Accuracy:\" + str(correct / total_size) + '\\n'\n",
        "            print(log_rec2)\n",
        "            log_records.append(log_rec1)\n",
        "            log_records.append(log_rec2)\n",
        "    #\n"
      ]
    },
    {
      "cell_type": "markdown",
      "metadata": {},
      "source": [
        "Получилось так что из такой формы:  \n",
        "\n",
        "    outputs = model(imgs)  \n",
        "    loss = loss_fn(outputs, labels)  \n",
        "    optimizer.zero_grad()\n",
        "    loss.backward()\n",
        "    optimizer.step()\n",
        "\n",
        "Получилась такая:   \n",
        " \n",
        "    optimizer.zero_grad()  \n",
        "    outputs = model(imgs)  \n",
        "    loss = loss_fn(outputs, labels)  \n",
        "    loss.backward()\n",
        "    optimizer.step()"
      ]
    }
  ],
  "metadata": {
    "accelerator": "GPU",
    "colab": {
      "provenance": []
    },
    "kernelspec": {
      "display_name": "Python 3",
      "name": "python3"
    },
    "language_info": {
      "codemirror_mode": {
        "name": "ipython",
        "version": 3
      },
      "file_extension": ".py",
      "mimetype": "text/x-python",
      "name": "python",
      "nbconvert_exporter": "python",
      "pygments_lexer": "ipython3",
      "version": "3.11.3"
    }
  },
  "nbformat": 4,
  "nbformat_minor": 0
}
