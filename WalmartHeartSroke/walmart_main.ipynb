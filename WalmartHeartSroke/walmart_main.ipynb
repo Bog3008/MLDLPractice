import pandas as pd 
import numpy as np
df = pd.read_csv('Walmart.csv')
print(df.head())
target_col = 'Weekly_Sales'
num_cols = ['Store',  'Temperature', 'Fuel_Price', 'CPI', 'Unemployment']
cat_cols = ['Holiday_Flag']
feature_cols = cat_cols + num_cols
# может перевести номер филиала в категориальный признак ?
Проверим на выбросы 
Sales - ok
CPI - ok
Temperature - idk. Is 100 tem ok ?
Fuel_Price - ok
Unemployment - ok 
traget_blowout_col = 'Unemployment'
sorted_df = df.sort_values(by= traget_blowout_col)
#print(sorted_df[traget_blowout_col].head(15))
#print(sorted_df[traget_blowout_col].tail(15))
corr = df.corr()
corr.style.background_gradient(cmap='coolwarm')

# divide on train and validation
from sklearn.linear_model import LinearRegression, Lasso, Ridge, ElasticNet
from sklearn.model_selection import cross_val_score
from sklearn.pipeline import make_pipeline
from sklearn.metrics import mean_squared_error, r2_score
from sklearn.model_selection import train_test_split, GridSearchCV
from sklearn.preprocessing import StandardScaler,  OneHotEncoder

from sklearn.pipeline import Pipeline
from sklearn.compose import ColumnTransformer
X = df[feature_cols]

y = df[target_col]

X_train, X_test, y_train, y_test = train_test_split(X, y, test_size=0.2)
# Начну со своей реализации
#L1 reg
class MyLinearRegression(object):
    def __init__(self, alpha=0.01, epochs=1000, l1_penalty=0.01):
        self.alpha = alpha
        self.epochs = epochs
        self.l1_penalty = l1_penalty
        self.weights = None
        self.bias = None

    def fit(self, X, y):
        n_samples, n_features = X.shape
        self.weights = np.zeros(n_features)
        self.bias = 0

        for _ in range(self.epochs):
            # Вычисляем предсказания модели
            y_pred = X.dot(self.weights) + self.bias

            # Вычисляем ошибку
            error = y - y_pred

            # Обновляем веса и смещение (bias) с учетом L1 регуляризации
            d_w = (-2/n_samples) * X.T.dot(error) + self.l1_penalty * np.sign(self.weights)
            d_b = (-2/n_samples) * np.sum(error)
            self.weights -= self.alpha * d_w
            self.bias -= self.alpha * d_b

    def predict(self, X):
        return X.dot(self.weights) + self.bias
        # (например, в fit), используйте self.w

    def loss(self, y, p):
        return np.mean(np.power(y-p, 2))
categorical_transformer = Pipeline([
    ('onehot', OneHotEncoder(handle_unknown='ignore'))
])

numerical_transformer = Pipeline([
    ('scaler', StandardScaler())
])

# Объединение преобразований для категориальных и числовых колонок
preprocessor = ColumnTransformer(
    transformers=[
        ('cat', categorical_transformer, cat_cols),
        ('num', numerical_transformer, num_cols)
    ])
# Создание pipeline
pipeline = Pipeline([
    ('preprocessor', preprocessor),          
    ('classifier', MyLinearRegression())     
])

pipeline.fit(X_train, y_train)
y_pred = pipeline.predict(X_test)

mse = mean_squared_error(y_test, y_pred)
print("Mean Squared Error (MSE):", mse)

# Расчет R^2
r_squared = r2_score(y_test, y_pred)
print("R^2:", r_squared)
# Sklearn Linear Regression
models = [LinearRegression(), Lasso(), Ridge(), ElasticNet()]

for model in models:
    # Обучение модели на обучающих данных
    model.fit(X_train, y_train)

    # Предсказание на тестовых данных
    y_pred = model.predict(X_test)
    
    print(model.__class__.__name__)
    mse = mean_squared_error(y_test, y_pred)
    print("\tMSE:", mse)

    # Расчет R^2
    r_squared = r2_score(y_test, y_pred)
    print("\tR^2:", r_squared)
